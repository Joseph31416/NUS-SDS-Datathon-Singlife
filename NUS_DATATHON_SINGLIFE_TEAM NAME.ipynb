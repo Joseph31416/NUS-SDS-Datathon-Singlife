{
 "cells": [
  {
   "cell_type": "markdown",
   "metadata": {},
   "source": [
    "##### The cell below is for you to keep track of the libraries used and install those libraries quickly\n",
    "##### Ensure that the proper library names are used and the syntax of `%pip install PACKAGE_NAME` is followed"
   ]
  },
  {
   "cell_type": "code",
   "execution_count": 5,
   "metadata": {},
   "outputs": [
    {
     "name": "stdout",
     "output_type": "stream",
     "text": [
      "Defaulting to user installation because normal site-packages is not writeable\n",
      "Requirement already satisfied: scikit-learn in /Users/sehunful/Library/Python/3.9/lib/python/site-packages (1.4.0)\n",
      "Requirement already satisfied: threadpoolctl>=2.0.0 in /Users/sehunful/Library/Python/3.9/lib/python/site-packages (from scikit-learn) (3.2.0)\n",
      "Requirement already satisfied: scipy>=1.6.0 in /Users/sehunful/Library/Python/3.9/lib/python/site-packages (from scikit-learn) (1.12.0)\n",
      "Requirement already satisfied: numpy<2.0,>=1.19.5 in /Users/sehunful/Library/Python/3.9/lib/python/site-packages (from scikit-learn) (1.26.3)\n",
      "Requirement already satisfied: joblib>=1.2.0 in /Users/sehunful/Library/Python/3.9/lib/python/site-packages (from scikit-learn) (1.3.2)\n",
      "\u001b[33mWARNING: You are using pip version 21.2.4; however, version 23.3.2 is available.\n",
      "You should consider upgrading via the '/Library/Developer/CommandLineTools/usr/bin/python3 -m pip install --upgrade pip' command.\u001b[0m\n",
      "Note: you may need to restart the kernel to use updated packages.\n"
     ]
    }
   ],
   "source": [
    "#%pip install pandas \n",
    "#%pip install matplotlib\n",
    "#%pip install scikit-learn\n",
    "import sklearn as sk\n",
    "from sklearn import datasets\n",
    "# add commented pip installation lines for packages used as shown above for ease of testing\n",
    "# the line should be of the format %pip install PACKAGE_NAME "
   ]
  },
  {
   "cell_type": "markdown",
   "metadata": {},
   "source": [
    "## **DO NOT CHANGE** the filepath variable\n",
    "##### Instead, create a folder named 'data' in your current working directory and \n",
    "##### have the .parquet file inside that. A relative path *must* be used when loading data into pandas"
   ]
  },
  {
   "cell_type": "markdown",
   "metadata": {},
   "source": [
    "### **ALL** Code for machine learning and dataset analysis should be entered below. \n",
    "##### Ensure that your code is clear and readable.\n",
    "##### Comments and Markdown notes are advised to direct attention to pieces of code you deem useful."
   ]
  },
  {
   "cell_type": "code",
   "execution_count": 7,
   "metadata": {},
   "outputs": [
    {
     "name": "stdout",
     "output_type": "stream",
     "text": [
      "      ctrycode_desc clttype stat_flag min_occ_date  cltdob_fix cltsex_fix  \\\n",
      "19550     Singapore       P    ACTIVE   2017-10-31  1974-05-09     Female   \n",
      "4600      Singapore       P    ACTIVE   2007-05-23  1979-11-11       Male   \n",
      "13337     Singapore       P    ACTIVE   2019-08-31  1976-01-28       Male   \n",
      "15074     Singapore       P    ACTIVE   2021-10-18  1976-03-19     Female   \n",
      "19724     Singapore       P    ACTIVE   2018-07-20  1995-07-31     Female   \n",
      "...             ...     ...       ...          ...         ...        ...   \n",
      "11284     Singapore       P    LAPSED   2016-08-01  1994-05-24       Male   \n",
      "11964     Singapore       P    ACTIVE   1990-03-20  1948-12-16       Male   \n",
      "5390      Singapore       P    ACTIVE   2007-12-31  1967-12-06     Female   \n",
      "860       Singapore       P    ACTIVE   2007-09-01  1986-04-01       Male   \n",
      "15795     Singapore       P    ACTIVE   2011-10-24  1970-05-15       Male   \n",
      "\n",
      "       flg_substandard  flg_is_borderline_standard  flg_is_revised_term  \\\n",
      "19550              0.0                         0.0                  0.0   \n",
      "4600               0.0                         0.0                  0.0   \n",
      "13337              0.0                         0.0                  0.0   \n",
      "15074              0.0                         0.0                  0.0   \n",
      "19724              0.0                         0.0                  0.0   \n",
      "...                ...                         ...                  ...   \n",
      "11284              0.0                         0.0                  0.0   \n",
      "11964              0.0                         0.0                  0.0   \n",
      "5390               0.0                         0.0                  0.0   \n",
      "860                0.0                         0.0                  0.0   \n",
      "15795              0.0                         0.0                  0.0   \n",
      "\n",
      "       flg_is_rental_flat  ...  f_ever_bought_lh_e22a6a  \\\n",
      "19550                 0.0  ...                        1   \n",
      "4600                  0.0  ...                        1   \n",
      "13337                 0.0  ...                        0   \n",
      "15074                 0.0  ...                        0   \n",
      "19724                 0.0  ...                        0   \n",
      "...                   ...  ...                      ...   \n",
      "11284                 0.0  ...                        0   \n",
      "11964                 0.0  ...                        0   \n",
      "5390                  0.0  ...                        0   \n",
      "860                   0.0  ...                        0   \n",
      "15795                 0.0  ...                        0   \n",
      "\n",
      "       f_ever_bought_grp_70e1dd  f_ever_bought_grp_e04c3a  \\\n",
      "19550                         0                         0   \n",
      "4600                          0                         0   \n",
      "13337                         0                         0   \n",
      "15074                         0                         0   \n",
      "19724                         0                         0   \n",
      "...                         ...                       ...   \n",
      "11284                         1                         0   \n",
      "11964                         0                         0   \n",
      "5390                          0                         0   \n",
      "860                           1                         0   \n",
      "15795                         0                         0   \n",
      "\n",
      "       f_ever_bought_grp_fe5fb8  f_ever_bought_grp_94baec  \\\n",
      "19550                         0                         0   \n",
      "4600                          0                         0   \n",
      "13337                         0                         0   \n",
      "15074                         0                         0   \n",
      "19724                         0                         0   \n",
      "...                         ...                       ...   \n",
      "11284                         0                         0   \n",
      "11964                         0                         0   \n",
      "5390                          0                         0   \n",
      "860                           0                         0   \n",
      "15795                         0                         0   \n",
      "\n",
      "       n_months_last_bought_grp_e91421  n_months_last_bought_lh_f852af  \\\n",
      "19550                             9999                            9999   \n",
      "4600                              9999                            9999   \n",
      "13337                             9999                            9999   \n",
      "15074                             9999                            9999   \n",
      "19724                             9999                            9999   \n",
      "...                                ...                             ...   \n",
      "11284                             9999                            9999   \n",
      "11964                             9999                            9999   \n",
      "5390                              9999                            9999   \n",
      "860                               9999                            9999   \n",
      "15795                             9999                            9999   \n",
      "\n",
      "       n_months_last_bought_lh_947b15  n_months_last_bought_32c74c  \\\n",
      "19550                            9999                         9999   \n",
      "4600                             9999                         9999   \n",
      "13337                            9999                         9999   \n",
      "15074                            9999                         9999   \n",
      "19724                            9999                         9999   \n",
      "...                               ...                          ...   \n",
      "11284                            9999                           36   \n",
      "11964                             407                         9999   \n",
      "5390                             9999                         9999   \n",
      "860                              9999                         9999   \n",
      "15795                            9999                         9999   \n",
      "\n",
      "      f_purchase_lh  \n",
      "19550           NaN  \n",
      "4600            NaN  \n",
      "13337           NaN  \n",
      "15074           NaN  \n",
      "19724           NaN  \n",
      "...             ...  \n",
      "11284           NaN  \n",
      "11964           NaN  \n",
      "5390            NaN  \n",
      "860             NaN  \n",
      "15795           NaN  \n",
      "\n",
      "[17990 rows x 42 columns]\n"
     ]
    }
   ],
   "source": [
    "# Can have as many cells as you want for code\n",
    "import pandas as pd\n",
    "filepath = \"./data/catB_train.parquet\" \n",
    "# the initialised filepath MUST be a relative path to a folder named data that contains the parquet file\n",
    "\n",
    "df = pd.read_parquet(filepath)\n",
    "\n",
    "cols_df1 = df.columns[:8]  \n",
    "cols_df2 = df.columns[8:18]  \n",
    "cols_df3 = df.columns[18:24] \n",
    "cols_df4 = df.columns[24:34]  \n",
    "cols_df5 = df.columns[34:41] \n",
    "cols_df6 = df.columns[41:158]  \n",
    "cols_df7 = df.columns[158:272] \n",
    "cols_df8 = df.columns[272:] \n",
    "\n",
    "df1 = df[cols_df1]\n",
    "df2 = df[cols_df2]\n",
    "df3 = df[cols_df3]\n",
    "df4 = df[cols_df4]\n",
    "df5 = df[cols_df5]\n",
    "df6 = df[cols_df6]\n",
    "df7 = df[cols_df7]\n",
    "df8 = df[cols_df8]\n",
    "\n",
    "df1 = df1.drop(columns=df1.columns[:2])\n",
    "df3 = df3[df3.columns[2:3]]\n",
    "df3 = df3[df3.columns[2:3]]\n",
    "df4 = df4.iloc[:, [0, 1, 2, 8, 9]]\n",
    "df5 = df5.drop(columns = ['recency_cancel'])\n",
    "df6 = df6.drop(columns=df6.columns[96:103])\n",
    "df6 = df6.astype('float')\n",
    "df7_1 = df7[df7.columns[78:85]]\n",
    "df7_2 = df7[df7.columns[110:135]]\n",
    "df7 = pd.concat([df7_1, df7_2], axis=1)\n",
    "df8 = df8.drop(columns = df.columns[272:303])\n",
    "\n",
    "\n",
    "#combining columns in cat 6 based on ape, sumins and prempaid\n",
    "\n",
    "ape_av = df6.columns[0:30].to_list() + df6.columns[89:96].to_list()\n",
    "df6['av_ape'] = df6[ape_av].mean(axis=1)\n",
    "df6 = df6.drop(columns=ape_av)\n",
    "\n",
    "sumins_av = df6.columns[0:29].to_list() + df6.columns[59:67].to_list()\n",
    "df6['av_sumins'] = df6[sumins_av].mean(axis=1)\n",
    "df6 = df6.drop(columns=sumins_av)\n",
    "\n",
    "prempaid_av = df6.columns[0:36]\n",
    "df6['av_prempaid'] = df6[prempaid_av].mean(axis=1)\n",
    "df6 = df6.drop(columns=prempaid_av)\n",
    "\n",
    "df6.head\n",
    "df = pd.concat([df1, df2, df3, df4, df5, df6, df7, df8], axis=1)\n",
    "df = df.drop_duplicates()\n",
    "print(df)"
   ]
  },
  {
   "cell_type": "markdown",
   "metadata": {},
   "source": [
    "### Dealing with missing data\n"
   ]
  },
  {
   "cell_type": "code",
   "execution_count": 29,
   "metadata": {},
   "outputs": [],
   "source": [
    "# Detecting NaN and None\n",
    "\n",
    "null = pd.isnull(df)\n",
    "null.head()\n",
    "\n",
    "# Filling null values\n",
    "\n",
    "df.fillna(0)\n",
    "\n",
    "#Count the total number of missing values\n",
    "pd.isnull(df).sum().sum()\n",
    "\n",
    "#dropped irrelevant/unhelpful rows\n",
    "for x in df.index:\n",
    "    if df.loc[x, \"ctrycode_desc\"] == \"Not Applicable\":\n",
    "        df.drop(x, inplace=True)\n",
    "        \n",
    "for x in df.index:\n",
    "    if df.loc[x, \"annual_income_est\"] == '':\n",
    "        df.replace(to_replace = None, value = 0)\n",
    "  \n",
    "\n",
    "\n",
    "\n",
    "#knn for income\n",
    "income = df['annual_income_est']\n",
    "income.value_counts()\n",
    "df[\"annual_income_est\"][13:14]\n",
    "from sklearn.impute import KNNImputer\n",
    "#imputer_knn = KNNImputer(missing_values=None)\n",
    "#imputer_knn.fit_transform(df[\"annual_income_est\"])\n",
    "\n",
    "\n",
    "#knn for recency lapse\n",
    "imputer_knn = KNNImputer(missing_values=None)\n",
    "#imputer_knn.fit_transform(df[\"recency_lapse\"]) #tried to impute numerical values but knnimputer needs it to be a 2d array\n",
    "\n",
    "csv_output = \"./data/catB_train.csv\" \n",
    "df.to_csv(csv_output, index = False)\n",
    "\n",
    "#df = df.interpolate(method='pad')\n",
    "df[\"f_purchase_lh\"] = df[\"f_purchase_lh\"].fillna(0)\n"
   ]
  },
  {
   "cell_type": "code",
   "execution_count": null,
   "metadata": {},
   "outputs": [],
   "source": []
  },
  {
   "cell_type": "markdown",
   "metadata": {},
   "source": [
    "## Feature Selection"
   ]
  },
  {
   "cell_type": "code",
   "execution_count": 30,
   "metadata": {},
   "outputs": [
    {
     "data": {
      "text/plain": [
       "0.007173361594360358"
      ]
     },
     "execution_count": 30,
     "metadata": {},
     "output_type": "execute_result"
    }
   ],
   "source": [
    "#correlation between target and annual income\n",
    "#df[\"av_ape\"].corr(df[\"f_purchase_lh\"]) #all the numeric comparisons gave nan output\n",
    "#df = df.apply([pd.to_numeric]) #we tried to make all the categorical numeric but also did not work\n",
    "\n",
    "\n",
    "df[\"av_ape\"].corr(df[\"f_purchase_lh\"])"
   ]
  },
  {
   "cell_type": "markdown",
   "metadata": {},
   "source": [
    "SMOTE\n"
   ]
  },
  {
   "cell_type": "code",
   "execution_count": 23,
   "metadata": {},
   "outputs": [
    {
     "name": "stdout",
     "output_type": "stream",
     "text": [
      "Defaulting to user installation because normal site-packages is not writeable\n",
      "Requirement already satisfied: imblearn in /Users/sehunful/Library/Python/3.9/lib/python/site-packages (0.0)\n",
      "Requirement already satisfied: imbalanced-learn in /Users/sehunful/Library/Python/3.9/lib/python/site-packages (from imblearn) (0.12.0)\n",
      "Requirement already satisfied: threadpoolctl>=2.0.0 in /Users/sehunful/Library/Python/3.9/lib/python/site-packages (from imbalanced-learn->imblearn) (3.2.0)\n",
      "Requirement already satisfied: joblib>=1.1.1 in /Users/sehunful/Library/Python/3.9/lib/python/site-packages (from imbalanced-learn->imblearn) (1.3.2)\n",
      "Requirement already satisfied: numpy>=1.17.3 in /Users/sehunful/Library/Python/3.9/lib/python/site-packages (from imbalanced-learn->imblearn) (1.26.3)\n",
      "Requirement already satisfied: scipy>=1.5.0 in /Users/sehunful/Library/Python/3.9/lib/python/site-packages (from imbalanced-learn->imblearn) (1.12.0)\n",
      "Requirement already satisfied: scikit-learn>=1.0.2 in /Users/sehunful/Library/Python/3.9/lib/python/site-packages (from imbalanced-learn->imblearn) (1.4.0)\n",
      "\u001b[33mWARNING: You are using pip version 21.2.4; however, version 23.3.2 is available.\n",
      "You should consider upgrading via the '/Library/Developer/CommandLineTools/usr/bin/python3 -m pip install --upgrade pip' command.\u001b[0m\n",
      "Note: you may need to restart the kernel to use updated packages.\n"
     ]
    }
   ],
   "source": [
    "#%pip install imblearn\n",
    "from imblearn.over_sampling import SMOTE\n"
   ]
  },
  {
   "cell_type": "code",
   "execution_count": null,
   "metadata": {},
   "outputs": [],
   "source": []
  },
  {
   "cell_type": "markdown",
   "metadata": {},
   "source": [
    "## The cell below is **NOT** to be removed\n",
    "##### The function is to be amended so that it accepts the given input (dataframe) and returns the required output (list). \n",
    "##### It is recommended to test the function out prior to submission\n",
    "-------------------------------------------------------------------------------------------------------------------------------\n",
    "##### The hidden_data parsed into the function below will have the same layout columns wise as the dataset *SENT* to you\n",
    "##### Thus, ensure that steps taken to modify the initial dataset to fit into the model are also carried out in the function below"
   ]
  },
  {
   "cell_type": "code",
   "execution_count": 25,
   "metadata": {},
   "outputs": [],
   "source": [
    "def testing_hidden_data(hidden_data: pd.DataFrame) -> list:\n",
    "    '''DO NOT REMOVE THIS FUNCTION.\n",
    "\n",
    "The function accepts a dataframe as input and return an iterable (list)\n",
    "of binary classes as output.\n",
    "\n",
    "The function should be coded to test on hidden data\n",
    "and should include any preprocessing functions needed for your model to perform. \n",
    "    \n",
    "All relevant code MUST be included in this function.'''\n",
    "    result = [] \n",
    "    return result"
   ]
  },
  {
   "cell_type": "markdown",
   "metadata": {},
   "source": [
    "##### Cell to check testing_hidden_data function"
   ]
  },
  {
   "cell_type": "code",
   "execution_count": 26,
   "metadata": {},
   "outputs": [
    {
     "name": "stdout",
     "output_type": "stream",
     "text": [
      "[]\n"
     ]
    }
   ],
   "source": [
    "# This cell should output a list of predictions.\n",
    "test_df = pd.read_parquet(filepath)\n",
    "test_df = test_df.drop(columns=[\"f_purchase_lh\"])\n",
    "print(testing_hidden_data(test_df))"
   ]
  },
  {
   "cell_type": "markdown",
   "metadata": {},
   "source": [
    "### Please have the filename renamed and ensure that it can be run with the requirements above being met. All the best!"
   ]
  }
 ],
 "metadata": {
  "kernelspec": {
   "display_name": "Python 3 (ipykernel)",
   "language": "python",
   "name": "python3"
  },
  "language_info": {
   "codemirror_mode": {
    "name": "ipython",
    "version": 3
   },
   "file_extension": ".py",
   "mimetype": "text/x-python",
   "name": "python",
   "nbconvert_exporter": "python",
   "pygments_lexer": "ipython3",
   "version": "3.9.6"
  }
 },
 "nbformat": 4,
 "nbformat_minor": 4
}
